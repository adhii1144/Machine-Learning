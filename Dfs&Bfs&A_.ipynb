{
  "nbformat": 4,
  "nbformat_minor": 0,
  "metadata": {
    "colab": {
      "provenance": [],
      "authorship_tag": "ABX9TyNqm4JBcu0DJ+2rhbfYsGZa",
      "include_colab_link": true
    },
    "kernelspec": {
      "name": "python3",
      "display_name": "Python 3"
    },
    "language_info": {
      "name": "python"
    }
  },
  "cells": [
    {
      "cell_type": "markdown",
      "metadata": {
        "id": "view-in-github",
        "colab_type": "text"
      },
      "source": [
        "<a href=\"https://colab.research.google.com/github/adhii1144/Machine-Learning/blob/main/Dfs%26Bfs%26A_.ipynb\" target=\"_parent\"><img src=\"https://colab.research.google.com/assets/colab-badge.svg\" alt=\"Open In Colab\"/></a>"
      ]
    },
    {
      "cell_type": "code",
      "execution_count": 3,
      "metadata": {
        "colab": {
          "base_uri": "https://localhost:8080/"
        },
        "id": "-KBb1HMgN3Wa",
        "outputId": "1a974585-6cd0-4e80-9825-9adce5732dd8"
      },
      "outputs": [
        {
          "output_type": "stream",
          "name": "stdout",
          "text": [
            "5 3 7 2 4 8 "
          ]
        }
      ],
      "source": [
        "def bfs(visited , graph , node):\n",
        "    visited.append(node)\n",
        "    queue.append(node)\n",
        "    while queue:\n",
        "        m = queue.pop(0)\n",
        "        print(m,end=\" \")\n",
        "        for neighbour in graph[m]:\n",
        "          if neighbour not in visited:\n",
        "            visited.append(neighbour)\n",
        "            queue.append(neighbour)\n",
        "graph = {\n",
        "     '5' : ['3','7'],\n",
        "     '3' : ['2','4'],\n",
        "     '7' : ['8'],\n",
        "     '2' : [],\n",
        "     '4' : [],\n",
        "     '8' : []\n",
        "}\n",
        "visited = []\n",
        "queue = []\n",
        "bfs(visited , graph , '5' )"
      ]
    },
    {
      "cell_type": "code",
      "source": [
        "graph = {\n",
        "     '5' : ['3','7'],\n",
        "     '3' : ['2','4'],\n",
        "     '7' : ['8'],\n",
        "     '2' : [],\n",
        "     '4' : [],\n",
        "     '8' : []\n",
        "}\n",
        "visited = set()\n",
        "def dfs(visited , graph , node):\n",
        "  if node not in visited:\n",
        "    print(node , end = \" \")\n",
        "    visited.add(node)\n",
        "    for neighbour in graph[node]:\n",
        "      dfs(visited , graph , neighbour)\n",
        "dfs(visited , graph , '5')"
      ],
      "metadata": {
        "colab": {
          "base_uri": "https://localhost:8080/"
        },
        "id": "l_oYcUZBPwgp",
        "outputId": "e256b85d-5e24-44c1-a797-1d97c3fbbb83"
      },
      "execution_count": 6,
      "outputs": [
        {
          "output_type": "stream",
          "name": "stdout",
          "text": [
            "5 3 2 4 7 8 "
          ]
        }
      ]
    },
    {
      "cell_type": "code",
      "source": [
        "from collections import deque\n",
        "\n",
        "class Graph:\n",
        "    # example of adjacency list (or rather map)\n",
        "    # adjacency_list = {\n",
        "    # 'A': [('B', 1), ('C', 3), ('D', 7)],\n",
        "    # 'B': [('D', 5)],\n",
        "    # 'C': [('D', 12)]\n",
        "    # }\n",
        "\n",
        "    def __init__(self, adjacency_list): # Changed _init_ to __init__\n",
        "        self.adjacency_list = adjacency_list\n",
        "\n",
        "    def get_neighbors(self, v):\n",
        "        return self.adjacency_list[v]\n",
        "\n",
        "    # heuristic function with equal values for all nodes\n",
        "    def h(self, n):\n",
        "        H = {\n",
        "            'A': 1,\n",
        "            'B': 1,\n",
        "            'C': 1,\n",
        "            'D': 1\n",
        "        }\n",
        "\n",
        "        return H[n]\n",
        "\n",
        "    def a_star_algorithm(self, start_node, stop_node):\n",
        "        # open_list is a list of nodes which have been visited, but who's neighbors\n",
        "        # haven't all been inspected, starts off with the start node\n",
        "        # closed_list is a list of nodes which have been visited\n",
        "        # and who's neighbors have been inspected\n",
        "        open_list = set([start_node])\n",
        "        closed_list = set([])\n",
        "\n",
        "        # g contains current distances from start_node to all other nodes\n",
        "        # the default value (if it's not found in the map) is +infinity\n",
        "        g = {}\n",
        "\n",
        "        g[start_node] = 0\n",
        "\n",
        "        # parents contains an adjacency map of all nodes\n",
        "        parents = {}\n",
        "        parents[start_node] = start_node\n",
        "\n",
        "        while len(open_list) > 0:\n",
        "            n = None\n",
        "\n",
        "            # find a node with the lowest value of f() - evaluation function\n",
        "            for v in open_list:\n",
        "                if n == None or g[v] + self.h(v) < g[n] + self.h(n):\n",
        "                    n = v;\n",
        "\n",
        "            if n == None:\n",
        "                print('Path does not exist!')\n",
        "                return None\n",
        "\n",
        "            # if the current node is the stop_node\n",
        "            # then we begin reconstructin the path from it to the start_node\n",
        "            if n == stop_node:\n",
        "                reconst_path = []\n",
        "\n",
        "                while parents[n] != n:\n",
        "                    reconst_path.append(n)\n",
        "                    n = parents[n]\n",
        "\n",
        "                reconst_path.append(start_node)\n",
        "\n",
        "                reconst_path.reverse()\n",
        "\n",
        "                print('Path found: {}'.format(reconst_path))\n",
        "                return reconst_path\n",
        "\n",
        "            # for all neighbors of the current node do\n",
        "            for (m, weight) in self.get_neighbors(n):\n",
        "                # if the current node isn't in both open_list and closed_list\n",
        "                # add it to open_list and note n as it's parent\n",
        "                if m not in open_list and m not in closed_list:\n",
        "                    open_list.add(m)\n",
        "                    parents[m] = n\n",
        "                    g[m] = g[n] + weight\n",
        "\n",
        "                # otherwise, check if it's quicker to first visit n, then m\n",
        "                # and if it is, update parent data and g data\n",
        "                # and if the node was in the closed_list, move it to open_list\n",
        "                else:\n",
        "                    if g[m] > g[n] + weight:\n",
        "                        g[m] = g[n] + weight\n",
        "                        parents[m] = n\n",
        "\n",
        "                        if m in closed_list:\n",
        "                            closed_list.remove(m)\n",
        "                            open_list.add(m)\n",
        "\n",
        "            # remove n from the open_list, and add it to closed_list\n",
        "            # because all of his neighbors were inspected\n",
        "            open_list.remove(n)\n",
        "            closed_list.add(n)\n",
        "\n",
        "        print('Path does not exist!')\n",
        "        return None\n",
        "adjacency_list = {\n",
        "    'A': [('B', 1), ('C', 3), ('D', 7)],\n",
        "    'B': [('D', 5)],\n",
        "    'C': [('D', 12)]\n",
        "}\n",
        "graph1 = Graph(adjacency_list)\n",
        "graph1.a_star_algorithm('A', 'D')"
      ],
      "metadata": {
        "colab": {
          "base_uri": "https://localhost:8080/"
        },
        "id": "DFAg16IIQhvN",
        "outputId": "c6ebc5c2-2246-4251-a8a0-d5ad6659cfe8"
      },
      "execution_count": 8,
      "outputs": [
        {
          "output_type": "stream",
          "name": "stdout",
          "text": [
            "Path found: ['A', 'B', 'D']\n"
          ]
        },
        {
          "output_type": "execute_result",
          "data": {
            "text/plain": [
              "['A', 'B', 'D']"
            ]
          },
          "metadata": {},
          "execution_count": 8
        }
      ]
    }
  ]
}